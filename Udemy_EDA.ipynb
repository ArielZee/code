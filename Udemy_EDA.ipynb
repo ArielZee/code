{
  "cells": [
    {
      "cell_type": "markdown",
      "metadata": {
        "id": "view-in-github",
        "colab_type": "text"
      },
      "source": [
        "<a href=\"https://colab.research.google.com/github/ArielZee/code/blob/master/Udemy_EDA.ipynb\" target=\"_parent\"><img src=\"https://colab.research.google.com/assets/colab-badge.svg\" alt=\"Open In Colab\"/></a>"
      ]
    },
    {
      "cell_type": "markdown",
      "metadata": {
        "id": "V9eGiqPRGcK9"
      },
      "source": [
        "# Welcome"
      ]
    },
    {
      "cell_type": "markdown",
      "metadata": {
        "id": "WFIPCiUAGcK_"
      },
      "source": [
        "<div style='background:lightgreen;font-size:15px'> \n",
        "    \n",
        "The purpose of this notebook is to provide you with a simple, beginner-friendly, and easy-to-understand EDA \"template\"  you can use in order to conduct your own data analysis.\n",
        "<br>\n",
        "    \n",
        "What is an EDA ? <br>\n",
        "* EDA is an approach to understanding data using visualization and statistical tools. Think of EDA as your initial interaction with data.\n",
        "* EDA allows us to assess and validate assumptions. In which future inferences will be based. So we might ask questions like which variables are normally distributed, or we might be wondering if a variable is biased toward a particular value.\n",
        "* EDA allows us to understand the data before performing and intelligent hypothesis. Well EDA can be the source of an idea for an experiment. It's not a formal process of hypothesis testing and predictive modelling. \n",
        "Ultimately, we're developing intuition of our data set and how it came into existence\n",
        "\n",
        "Things to keep in mind as you read this:\n",
        "\n",
        "* <b> Analysis Methods </b> - Analysis methods such as T-Test, ANOVA, Correlations etc., are beyond the scope of this notebook. The main focus here will be on Descriptive Statitics\n",
        "* <b> Visualization Methods </b> - There are numerous ways to visualize data and relations between different variables, this notebook describes the most basic and common techniques\n",
        "* <b> Analysis Platform </b> - Although Python is highly recommended for this kind of process, you can easily replicate most of the steps described here to Excel / SQL / Power BI / Tableau, etc. "
      ]
    },
    {
      "cell_type": "markdown",
      "metadata": {
        "id": "mMX8ItH_GcLB"
      },
      "source": [
        "# Learn More About Pandas"
      ]
    },
    {
      "cell_type": "markdown",
      "metadata": {
        "id": "FgukWZwGGcLC"
      },
      "source": [
        "https://www.youtube.com/watch?v=TjKmXxKB_kM&t=26s"
      ]
    },
    {
      "cell_type": "markdown",
      "metadata": {
        "id": "KWPrW-QRGcLC"
      },
      "source": [
        "# Join the Full Training Program!"
      ]
    },
    {
      "cell_type": "markdown",
      "metadata": {
        "id": "cm7a-By-GcLC"
      },
      "source": [
        "* 2.5 months of intensive Python Data Analysis training\n",
        "* Learn by doing , and perform hundreds of tasks spread across multiple datasets\n",
        "* Build your own Python data analysis portfolio\n",
        "* Ongoing assistance with all questions, both during and after the course\n",
        "* Next training starts at 01/03/20222\n",
        "\n",
        "https://bit.ly/pandas-for-non-programmers"
      ]
    },
    {
      "cell_type": "markdown",
      "metadata": {
        "id": "10N5prnXGcLC"
      },
      "source": [
        "# Udemy Exploratory Data Analysis (EDA)"
      ]
    },
    {
      "cell_type": "markdown",
      "metadata": {
        "id": "pd2qeMgaGcLD"
      },
      "source": [
        "## Introduction"
      ]
    },
    {
      "cell_type": "markdown",
      "metadata": {
        "id": "PWxKBA8vGcLD"
      },
      "source": [
        "### About the Dataset"
      ]
    },
    {
      "cell_type": "markdown",
      "metadata": {
        "id": "tG_BuF0KGcLE"
      },
      "source": [
        "* Udemy, Inc. is a major open online course provider aimed at working adults and students in the United States.\n",
        "* Eren Bali, Gagan Biyani, and Oktay Caglar formed it in May 2010.\n",
        "* The platform has over 35 million students and 57,000 instructors delivering courses in over 65 languages as of January 2020. "
      ]
    },
    {
      "cell_type": "markdown",
      "metadata": {
        "id": "-CVG97gUGcLE"
      },
      "source": [
        "### Tasks"
      ]
    },
    {
      "cell_type": "markdown",
      "metadata": {
        "id": "2pYu4zbDGcLF"
      },
      "source": [
        "* To conduct a general EDA, and further understand Udemy's dataset / develop intuition of our data\n",
        "* Performance in perspective of time\n",
        "* Deep dive into Web-Development courses"
      ]
    },
    {
      "cell_type": "markdown",
      "metadata": {
        "id": "7cirp3qVGcLF"
      },
      "source": [
        "## Preparation"
      ]
    },
    {
      "cell_type": "markdown",
      "metadata": {
        "id": "mXfD_1HaGcLG"
      },
      "source": [
        "### Loading the Libraries"
      ]
    },
    {
      "cell_type": "markdown",
      "metadata": {
        "id": "viujYIhBGcLG"
      },
      "source": [
        "Loading Python relevant libraries"
      ]
    },
    {
      "cell_type": "code",
      "execution_count": null,
      "metadata": {
        "id": "LmSBQoaBGcLG"
      },
      "outputs": [],
      "source": [
        "import pandas as pd\n",
        "from scipy import stats\n",
        "import matplotlib.pyplot as plt\n",
        "import seaborn as sns\n",
        "import numpy as np\n",
        "from scipy.stats import chi2_contingency\n",
        "from scipy.stats import chi2\n",
        "import helpers"
      ]
    },
    {
      "cell_type": "markdown",
      "metadata": {
        "id": "zMwOCeZiGcLH"
      },
      "source": [
        "### Specific Notebook Parameters"
      ]
    },
    {
      "cell_type": "code",
      "execution_count": null,
      "metadata": {
        "id": "pklvDIVCGcLI"
      },
      "outputs": [],
      "source": [
        "pd.set_option('max_colwidth', 400)\n",
        "plt.style.use('ggplot')"
      ]
    },
    {
      "cell_type": "markdown",
      "metadata": {
        "id": "5F1744uNGcLI"
      },
      "source": [
        "### Loading the Data"
      ]
    },
    {
      "cell_type": "markdown",
      "metadata": {
        "id": "-uDqahBBGcLI"
      },
      "source": [
        "Loading the Udemy dataset into a DataFrame"
      ]
    },
    {
      "cell_type": "code",
      "execution_count": null,
      "metadata": {
        "id": "aahjKRZFGcLI"
      },
      "outputs": [],
      "source": [
        "df = pd.read_csv('https://raw.githubusercontent.com/RamKedem/Datasets/main/udemy_courses.csv')"
      ]
    },
    {
      "cell_type": "markdown",
      "metadata": {
        "id": "yuz1udxVGcLI"
      },
      "source": [
        "### Understanding the Data"
      ]
    },
    {
      "cell_type": "markdown",
      "metadata": {
        "id": "XBdYSwBkGcLI"
      },
      "source": [
        "A few basic details - what is the data-shape in terms of columns & rows, and what details can be found in each column"
      ]
    },
    {
      "cell_type": "markdown",
      "metadata": {
        "id": "nd2Kw1BMGcLI"
      },
      "source": [
        "#### Data Shape"
      ]
    },
    {
      "cell_type": "code",
      "execution_count": null,
      "metadata": {
        "id": "3Yq7Uvb4GcLJ"
      },
      "outputs": [],
      "source": [
        "print(f'This Dataframe has {df.shape[0]} rows over {df.shape[1]} columns')"
      ]
    },
    {
      "cell_type": "markdown",
      "metadata": {
        "id": "tvmjCIydGcLJ"
      },
      "source": [
        "#### Sampling some rows"
      ]
    },
    {
      "cell_type": "code",
      "execution_count": null,
      "metadata": {
        "id": "3KSroMgkGcLJ"
      },
      "outputs": [],
      "source": [
        "df.sample(3)"
      ]
    },
    {
      "cell_type": "markdown",
      "metadata": {
        "id": "zqaRziQfGcLJ"
      },
      "source": [
        "#### Data Dictionary"
      ]
    },
    {
      "cell_type": "markdown",
      "metadata": {
        "id": "m94kk_b2GcLJ"
      },
      "source": [
        "* <b>course_id </b>- course number\n",
        "* <b>course_</b> - course title\n",
        "* <b>url </b>- course url\n",
        "* <b>is_paid </b>- whether the course is free or paid\n",
        "* <b>price </b>- course price\n",
        "* <b>num_subscribers </b>- umber of subscribers\n",
        "* <b>num_reviews </b>- number of reviews\n",
        "* <b>num_lectures </b>- number of lectures\n",
        "* <b>level - </b> course difficulty\n",
        "* <b>content_duration </b>- duration of all course materials"
      ]
    },
    {
      "cell_type": "markdown",
      "metadata": {
        "id": "uzHQoVMvGcLJ"
      },
      "source": [
        "### Cleanup"
      ]
    },
    {
      "cell_type": "markdown",
      "metadata": {
        "id": "r8fxEbcmGcLJ"
      },
      "source": [
        "In the following section we'll remove unnecessary columns and deal with empty and duplicated rows. "
      ]
    },
    {
      "cell_type": "markdown",
      "metadata": {
        "id": "hRNS8A0AGcLJ"
      },
      "source": [
        "#### Null Values"
      ]
    },
    {
      "cell_type": "markdown",
      "metadata": {
        "id": "dfiQ1PXLGcLK"
      },
      "source": [
        "This dataset doesn't contain any NaN values, so further cleanup in this area is not required"
      ]
    },
    {
      "cell_type": "code",
      "execution_count": null,
      "metadata": {
        "id": "HSxaf6AFGcLK"
      },
      "outputs": [],
      "source": [
        "df.isnull().sum()"
      ]
    },
    {
      "cell_type": "markdown",
      "metadata": {
        "id": "pkAwAT8fGcLK"
      },
      "source": [
        "#### Validating Datatypes"
      ]
    },
    {
      "cell_type": "code",
      "execution_count": null,
      "metadata": {
        "id": "I1Y-1pHeGcLK"
      },
      "outputs": [],
      "source": [
        "df.info()"
      ]
    },
    {
      "cell_type": "markdown",
      "metadata": {
        "id": "TUjWBTz7GcLK"
      },
      "source": [
        "Transforming the published_timestamp into a valid datetime object"
      ]
    },
    {
      "cell_type": "code",
      "execution_count": null,
      "metadata": {
        "id": "yGDAnCfbGcLK"
      },
      "outputs": [],
      "source": [
        "df['published_timestamp'] = pd.to_datetime(df['published_timestamp'])"
      ]
    },
    {
      "cell_type": "code",
      "execution_count": null,
      "metadata": {
        "id": "a7fc874fGcLK"
      },
      "outputs": [],
      "source": [
        "df.info()"
      ]
    },
    {
      "cell_type": "markdown",
      "metadata": {
        "id": "gMFyMPWeGcLL"
      },
      "source": [
        "#### Duplicates Rows"
      ]
    },
    {
      "cell_type": "code",
      "execution_count": null,
      "metadata": {
        "id": "7xzdRfzMGcLL"
      },
      "outputs": [],
      "source": [
        "df.nunique()"
      ]
    },
    {
      "cell_type": "markdown",
      "metadata": {
        "id": "uDfATsLCGcLL"
      },
      "source": [
        "Number of unique values in course_id & course_titles should be equal to the number of rows - 3678. <br> \n",
        "Lets undertand the reason its not"
      ]
    },
    {
      "cell_type": "code",
      "execution_count": null,
      "metadata": {
        "scrolled": true,
        "id": "Heay5WisGcLL"
      },
      "outputs": [],
      "source": [
        "df[df.duplicated()].head()"
      ]
    },
    {
      "cell_type": "markdown",
      "metadata": {
        "id": "NJTRZ3OrGcLL"
      },
      "source": [
        "There are several duplicated rows, so lets get rid of them"
      ]
    },
    {
      "cell_type": "code",
      "execution_count": null,
      "metadata": {
        "id": "ZIrqFGRfGcLL"
      },
      "outputs": [],
      "source": [
        "df.drop_duplicates(inplace=True)"
      ]
    },
    {
      "cell_type": "markdown",
      "metadata": {
        "id": "dDVU_eZNGcLL"
      },
      "source": [
        "Check again"
      ]
    },
    {
      "cell_type": "code",
      "execution_count": null,
      "metadata": {
        "id": "wJJsiHE-GcLL"
      },
      "outputs": [],
      "source": [
        "df.nunique()"
      ]
    },
    {
      "cell_type": "markdown",
      "metadata": {
        "id": "YmonqiLjGcLM"
      },
      "source": [
        "The number of values in course_title is still different than num_of_rows. Lest try to understand why "
      ]
    },
    {
      "cell_type": "code",
      "execution_count": null,
      "metadata": {
        "scrolled": true,
        "id": "TPTI_F7oGcLM"
      },
      "outputs": [],
      "source": [
        "df[df.duplicated(subset=['course_title'])].head(2)"
      ]
    },
    {
      "cell_type": "markdown",
      "metadata": {
        "id": "IRYIMCspGcLM"
      },
      "source": [
        "We can see that different courses may have the exact same name. so number of values in course_title <> num_of_rows is not be a real problem"
      ]
    },
    {
      "cell_type": "markdown",
      "metadata": {
        "id": "bKNY7LURGcLM"
      },
      "source": [
        "#### Drop unnecessary columns"
      ]
    },
    {
      "cell_type": "markdown",
      "metadata": {
        "id": "1jqXULC7GcLM"
      },
      "source": [
        "the course_id, and url do not contain any usefull data for this analysis, so we can drop them."
      ]
    },
    {
      "cell_type": "code",
      "execution_count": null,
      "metadata": {
        "id": "UaNrluxLGcLM"
      },
      "outputs": [],
      "source": [
        "df.drop(['course_id','url'], axis=1, inplace=True)"
      ]
    },
    {
      "cell_type": "markdown",
      "metadata": {
        "id": "wqli3frtGcLM"
      },
      "source": [
        "#### Creating a cleanup function for future reads"
      ]
    },
    {
      "cell_type": "code",
      "execution_count": null,
      "metadata": {
        "id": "Hli9yl2GGcLM"
      },
      "outputs": [],
      "source": [
        "def load_udemy():\n",
        "    url = 'https://raw.githubusercontent.com/RamKedem/Datasets/main/udemy_courses.csv'\n",
        "    df = pd.read_csv(url, parse_dates = ['published_timestamp'])\n",
        "    df.drop_duplicates(inplace=True)\n",
        "    df.drop(['course_id','url'], axis=1, inplace=True)\n",
        "    return df "
      ]
    },
    {
      "cell_type": "code",
      "execution_count": null,
      "metadata": {
        "id": "nizxVfj8GcLN"
      },
      "outputs": [],
      "source": [
        "df = load_udemy()"
      ]
    },
    {
      "cell_type": "markdown",
      "metadata": {
        "id": "3dVgfYseGcLN"
      },
      "source": [
        "## EDA"
      ]
    },
    {
      "cell_type": "markdown",
      "metadata": {
        "id": "UrRd1agXGcLN"
      },
      "source": [
        "### Categorical, Quantitative"
      ]
    },
    {
      "cell_type": "markdown",
      "metadata": {
        "id": "6a3e680JGcLN"
      },
      "source": [
        "Variables can be classified as categorical or quantitative, each type requires a different handling\n",
        "* <b> Categorical variable </b> : Names or labels (i.e., categories) with no logical order (<u>nominal</u>, hair color, type of dog, city etc.,) or with a logical order but inconsistent differences between groups  / no quantitive meaning (<u>ordinal</u>, rating surveys in restaurants, laptop preference)\n",
        "* <b> Quantitative variable </b> : Numerical values with quantitive meaning that can be placed in a meaningful order with consistent intervals.\n",
        "\n"
      ]
    },
    {
      "cell_type": "code",
      "execution_count": null,
      "metadata": {
        "id": "KbTBKd9DGcLN"
      },
      "outputs": [],
      "source": [
        "categorical = ['level','subject','is_paid']\n",
        "numerical   = ['content_duration', 'price','num_reviews','num_lectures','num_subscribers']"
      ]
    },
    {
      "cell_type": "markdown",
      "metadata": {
        "id": "a5e0q91uGcLN"
      },
      "source": [
        "### Univariate Analysis"
      ]
    },
    {
      "cell_type": "markdown",
      "metadata": {
        "id": "IjWFGwKXGcLN"
      },
      "source": [
        "#### Summary Statistics"
      ]
    },
    {
      "cell_type": "code",
      "execution_count": null,
      "metadata": {
        "scrolled": true,
        "id": "OEn15qdFGcLO"
      },
      "outputs": [],
      "source": [
        "df.describe().transpose()"
      ]
    },
    {
      "cell_type": "code",
      "execution_count": null,
      "metadata": {
        "id": "psDpFft4GcLO"
      },
      "outputs": [],
      "source": [
        "# helpers.get_numeric_details(df[numerical])"
      ]
    },
    {
      "cell_type": "markdown",
      "metadata": {
        "id": "mJbtBpEUGcLO"
      },
      "source": [
        "#### Summary Statistics Observations"
      ]
    },
    {
      "cell_type": "markdown",
      "metadata": {
        "id": "5WU1el4kGcLO"
      },
      "source": [
        "<div style='background:coral;font-size:15px'> \n",
        "\n",
        "<b> Initial Observations: </b>\n",
        "* <b> content_duration </b>\n",
        "    * There are courses no content duration (?) next section will remove those rows\n",
        "    * The maximum duration of content of a single course is 78.5 hours (?) that sounds a bit too much, we'll look into that in the next section\n",
        "* <b> price </b>\n",
        "    * The courses ranged in price from 0 to 200 usd, most of the prices (75%) are up to 95 usd\n",
        "* <b> reviews / subscribers </b>\n",
        "    * There are courses with no subscribers, and just a few (less than 25%) have more than 2600.\n",
        "    * The maximum number of reviews is ten times lower than the maximum number of subscribers\n",
        "    * Looks like Udemy courses are an all or nothing game\n",
        "    * The maximum num_reviews & num_subscribers is huge, considering the 75% percentiles, we should check these values also\n",
        "* <b> Data Distribution </b>\n",
        "    * Just by looking at the summary statistics we can see that all mean values are significantly higher than median values. <br>\n",
        "    This indicates that all numeric variables are positivly skewed\n",
        "    * The following sections will visualize these distributions\n",
        "\n",
        "</div>"
      ]
    },
    {
      "cell_type": "markdown",
      "metadata": {
        "id": "D8EDli17GcLO"
      },
      "source": [
        "<b> Validating courses with high content_duration </b> <br>\n",
        "We can see that courses with a high amount of hours also have a large number of lectures, which appears to be reasonable. "
      ]
    },
    {
      "cell_type": "code",
      "execution_count": null,
      "metadata": {
        "scrolled": true,
        "id": "eLa4opdhGcLO"
      },
      "outputs": [],
      "source": [
        "content_duration_filter = df['content_duration'] > 70\n",
        "df[content_duration_filter].head(2)"
      ]
    },
    {
      "cell_type": "markdown",
      "metadata": {
        "id": "ZnLLz5GvGcLO"
      },
      "source": [
        "<b> Validating courses with high number of reviews </b>"
      ]
    },
    {
      "cell_type": "code",
      "execution_count": null,
      "metadata": {
        "id": "ABDrA10RGcLP"
      },
      "outputs": [],
      "source": [
        "content_duration_filter = df['num_reviews'] > 25000\n",
        "df[content_duration_filter].head(2)"
      ]
    },
    {
      "cell_type": "markdown",
      "metadata": {
        "id": "wUiTGAbwGcLP"
      },
      "source": [
        "<b> Validating courses with high number of subscribers </b>"
      ]
    },
    {
      "cell_type": "code",
      "execution_count": null,
      "metadata": {
        "id": "6OnOmX0yGcLP"
      },
      "outputs": [],
      "source": [
        "content_duration_filter = df['num_subscribers'] > 200000\n",
        "df[content_duration_filter].head(2)"
      ]
    },
    {
      "cell_type": "markdown",
      "metadata": {
        "id": "zOMo2pI_GcLP"
      },
      "source": [
        "<b> Dropping courses with 0 duration </b>"
      ]
    },
    {
      "cell_type": "code",
      "execution_count": null,
      "metadata": {
        "id": "EbTCjCB2GcLP"
      },
      "outputs": [],
      "source": [
        "content_duration_filter = df['content_duration'] == 0\n",
        "df.drop(df[content_duration_filter].index, inplace=True)"
      ]
    },
    {
      "cell_type": "markdown",
      "metadata": {
        "id": "TZz5GtvWGcLP"
      },
      "source": [
        "#### Visualizing the Data Distribution"
      ]
    },
    {
      "cell_type": "code",
      "execution_count": null,
      "metadata": {
        "scrolled": false,
        "id": "iU2_CKHrGcLP"
      },
      "outputs": [],
      "source": [
        "for column in numerical:\n",
        "    helpers.show_distribution(df,column)"
      ]
    },
    {
      "cell_type": "markdown",
      "metadata": {
        "id": "fBK2LY7FGcLQ"
      },
      "source": [
        "#### Dealing with Outliers"
      ]
    },
    {
      "cell_type": "markdown",
      "metadata": {
        "id": "WU59J3fqGcLQ"
      },
      "source": [
        "When it is appropriate to drop an outlier is beyond the scope of this notebook; however, in this notebook we'll demonstrate a simple method for detecting and deleting them. <br>\n",
        "\n",
        "Outliers: To Drop or Not to Drop <br>\n",
        "https://www.theanalysisfactor.com/outliers-to-drop-or-not-to-drop/ <br>"
      ]
    },
    {
      "cell_type": "code",
      "execution_count": null,
      "metadata": {
        "id": "zszSvy3BGcLR"
      },
      "outputs": [],
      "source": [
        "col = 'num_reviews'\n",
        "\n",
        "q1  = df[col].quantile(.25)\n",
        "q3  = df[col].quantile(.75)\n",
        "iqr = q3-q1\n",
        "right_bound = df[col] < (q3 + iqr * 1.5) \n",
        "left_bound  = df[col] > (q1 - iqr * 1.5)\n",
        "\n",
        "df = df[left_bound & right_bound]"
      ]
    },
    {
      "cell_type": "code",
      "execution_count": null,
      "metadata": {
        "id": "Gggy6QpJGcLS"
      },
      "outputs": [],
      "source": [
        "col = 'num_subscribers'\n",
        "\n",
        "q1  = df[col].quantile(.25)\n",
        "q3  = df[col].quantile(.75)\n",
        "iqr = q3-q1\n",
        "price_filter  = df[col] > (q3 + iqr * 1.5)\n",
        "\n",
        "df = df[price_filter]"
      ]
    },
    {
      "cell_type": "markdown",
      "metadata": {
        "id": "H3BPr-TsGcLS"
      },
      "source": [
        "#### Categorical Counts"
      ]
    },
    {
      "cell_type": "markdown",
      "metadata": {
        "id": "K28HdNvpGcLS"
      },
      "source": [
        "##### Available courses by each level\n",
        "The various courses are divided into four distinct levels:\n",
        "* All Levels\n",
        "* Beginner Level\n",
        "* Intermediate Level\n",
        "* Expert Level"
      ]
    },
    {
      "cell_type": "code",
      "execution_count": null,
      "metadata": {
        "id": "NKkgvvEPGcLT"
      },
      "outputs": [],
      "source": [
        "g1 = df.groupby('level').agg(number_of_courses = ('level','size'),\n",
        "                             pct = ('level',lambda x:x.count() / df['level'].size))\\\n",
        ".sort_values('pct', ascending=False)\n",
        "\n",
        "g2 = df.agg(number_of_courses = ('level','size'),\n",
        "        pct = ('level',lambda x:x.count() / df['level'].size)).transpose()\\\n",
        ".rename(index={'level': 'Total'})\n",
        "\n",
        "res = pd.concat([g1,g2])\n",
        "res.assign(number_of_courses = res['number_of_courses'].astype(int))\\\n",
        ".style.format({'pct': \"{:.2%}\"})"
      ]
    },
    {
      "cell_type": "markdown",
      "metadata": {
        "id": "StWmZSt0GcLT"
      },
      "source": [
        "##### Available courses by each subject\n",
        "\n",
        "The various courses are divided into four distinct subjects:\n",
        "* Web Development\n",
        "* Business Finance\n",
        "* Musical Instruments\n",
        "* Graphic Design"
      ]
    },
    {
      "cell_type": "code",
      "execution_count": null,
      "metadata": {
        "id": "VIkQSSzvGcLT"
      },
      "outputs": [],
      "source": [
        "g1 = df.groupby('subject').agg(number_of_courses = ('subject','size'))\n",
        "g1['pct'] = g1['number_of_courses']/g1['number_of_courses'].sum()\n",
        "g1"
      ]
    },
    {
      "cell_type": "code",
      "execution_count": null,
      "metadata": {
        "id": "EHHM_H-DGcLT"
      },
      "outputs": [],
      "source": [
        "g2 = df.agg(number_of_courses = ('subject','size'))\n",
        "g2.rename(index={'number_of_courses': 'Total'}, inplace=True)\n",
        "g2.rename(columns = {'subject':'number_of_courses'}, inplace=True)\n",
        "g2['pct'] = g2['number_of_courses']/g2['number_of_courses'].sum()\n",
        "g2"
      ]
    },
    {
      "cell_type": "code",
      "execution_count": null,
      "metadata": {
        "id": "8iz6L4cPGcLU"
      },
      "outputs": [],
      "source": [
        "res = pd.concat([g1,g2])\n",
        "res.assign(number_of_courses = res['number_of_courses'].astype(int))\\\n",
        ".style.format({'pct': \"{:.2%}\"})"
      ]
    },
    {
      "cell_type": "markdown",
      "metadata": {
        "id": "9RK-apLRGcLU"
      },
      "source": [
        "##### Available free / paid course \n",
        "Some of the available courses are free, while others require payment. "
      ]
    },
    {
      "cell_type": "code",
      "execution_count": null,
      "metadata": {
        "scrolled": true,
        "id": "ofZx1_NbGcLU"
      },
      "outputs": [],
      "source": [
        "g1 = df.groupby('is_paid').agg(number_of_courses = ('is_paid','size'),\n",
        "                             pct = ('is_paid',lambda x:x.count() / df['level'].size))\\\n",
        ".sort_values('pct', ascending=False)\n",
        "\n",
        "g2 = df.agg(number_of_courses = ('is_paid','size'),\n",
        "        pct = ('is_paid',lambda x:x.count() / df['is_paid'].size)).transpose()\\\n",
        ".rename(index={'is_paid': 'Total'})\n",
        "\n",
        "res = pd.concat([g1,g2])\n",
        "res.assign(number_of_courses = res['number_of_courses'].astype(int))\\\n",
        ".style.format({'pct': \"{:.2%}\"})"
      ]
    },
    {
      "cell_type": "code",
      "execution_count": null,
      "metadata": {
        "id": "bn7tvCHNGcLU"
      },
      "outputs": [],
      "source": [
        "for column in categorical:\n",
        "    helpers.show_counts(df,column)"
      ]
    },
    {
      "cell_type": "markdown",
      "metadata": {
        "id": "nHC1LxNIGcLV"
      },
      "source": [
        "#### Categorical Counts Observations"
      ]
    },
    {
      "cell_type": "markdown",
      "metadata": {
        "id": "9Q9XMG7AGcLV"
      },
      "source": [
        "<div style='background:coral;font-size:15px'> \n",
        "\n",
        "<b> Observations: </b>\n",
        "\n",
        "* We can see that this market is being dominated by course for <b> All Levels </b> (53%).\n",
        "* Most popular subjects are <b> Web Development </b> (32.6%) <b> and Business Finance </b>  (32.4%)\n",
        "* Most courses are <b> paid </b> (91%)\n",
        "    \n",
        "</div>"
      ]
    },
    {
      "cell_type": "markdown",
      "metadata": {
        "id": "BQsIUmPuGcLV"
      },
      "source": [
        "### Bivariate Analysis"
      ]
    },
    {
      "cell_type": "markdown",
      "metadata": {
        "id": "29fFNY1KGcLV"
      },
      "source": [
        "In the following section we'll attempt to explore the price-influencing factors <br>\n",
        "Since we're going to deal with paid-courses, the free courses will be taken out of the equation"
      ]
    },
    {
      "cell_type": "code",
      "execution_count": null,
      "metadata": {
        "id": "xxv-0-L2GcLW"
      },
      "outputs": [],
      "source": [
        "cols = ['course_title', 'price',\n",
        "       'num_subscribers', 'num_reviews', 'num_lectures', 'level',\n",
        "       'content_duration', 'published_timestamp', 'subject']\n",
        "\n",
        "paid_filter = df['is_paid']==True\n",
        "paid_courses = df[cols][paid_filter]\n",
        "\n",
        "paid_filter = df['is_paid']==False\n",
        "free_courses = df[cols][paid_filter]\n",
        "\n",
        "# paid_courses['engagement'] = paid_courses['num_reviews'] / paid_courses['num_subscribers']\n",
        "# paid_courses['published_year'] = paid_courses['published_timestamp'].dt.year"
      ]
    },
    {
      "cell_type": "markdown",
      "metadata": {
        "id": "nyAkgYmyGcLW"
      },
      "source": [
        "#### numeric to numeric"
      ]
    },
    {
      "cell_type": "markdown",
      "metadata": {
        "id": "DD-nCGSxGcLW"
      },
      "source": [
        "The following chart demonstrates the correlation (pearson) between the different numeric features. <br>\n",
        "There are several assumptions that should be taken into cosideration when performing this kind of calculation: <br>\n",
        "https://www.scribbr.com/frequently-asked-questions/assumptions-of-pearson-correlation-coefficient/\n",
        "<br> These are beyond the scope of this notebook"
      ]
    },
    {
      "cell_type": "code",
      "execution_count": null,
      "metadata": {
        "scrolled": false,
        "id": "mED63iyTGcLW"
      },
      "outputs": [],
      "source": [
        "# plt.figure(figsize=(15,8))\n",
        "sns.heatmap(paid_courses.corr(), annot=True)\\\n",
        ".set(title = 'Correlation Chart');"
      ]
    },
    {
      "cell_type": "markdown",
      "metadata": {
        "id": "dlwLkixpGcLX"
      },
      "source": [
        "Visaulizing the correlation of num_subscribers & num_reviews"
      ]
    },
    {
      "cell_type": "code",
      "execution_count": null,
      "metadata": {
        "scrolled": false,
        "id": "9femwMRIGcLX"
      },
      "outputs": [],
      "source": [
        "sns.scatterplot(data=paid_courses, x='num_subscribers', y='num_reviews')\\\n",
        ".set(title = 'num_subscribers / num_reviews');"
      ]
    },
    {
      "cell_type": "markdown",
      "metadata": {
        "id": "nr9xa1KLGcLX"
      },
      "source": [
        "#### Numeric to Numeric Observations"
      ]
    },
    {
      "cell_type": "markdown",
      "metadata": {
        "id": "jH29t6URGcLY"
      },
      "source": [
        "<div style='background:coral;font-size:15px'> \n",
        "<b> Observations </b> \n",
        "<ul>\n",
        "    <li> The amount of reviews and the number of subscribers have a positive relationship </li>\n",
        "    <li> There isn't much of a relation between pricing and subscription count. </li>\n",
        "  <li> There is a positive relationship between the number of lectures and the duration of the topic. </li>\n",
        "</ul>\n",
        "</div>"
      ]
    },
    {
      "cell_type": "markdown",
      "metadata": {
        "id": "DerqiaacGcLY"
      },
      "source": [
        "#### categorical to numeric"
      ]
    },
    {
      "cell_type": "markdown",
      "metadata": {
        "id": "jDhfpprcGcLY"
      },
      "source": [
        "##### Price  & Popularity by Level - Numeric Details"
      ]
    },
    {
      "cell_type": "code",
      "execution_count": null,
      "metadata": {
        "id": "LaDyrxE8GcLY"
      },
      "outputs": [],
      "source": [
        "paid_courses.groupby('level').agg(min_price = ('price','min'),\n",
        "                          q25 = ('price',lambda c:c.quantile(.25)),\n",
        "                          mean_price = ('price','mean'),\n",
        "                          median_price = ('price','median'),\n",
        "                          q75 = ('price',lambda c:c.quantile(.75)),\n",
        "                          max_price = ('price','max'),\n",
        "                          iqr = ('price', lambda c:c.quantile(.75)-c.quantile(.25)),\n",
        "                          price_range = ('price', lambda c:c.max()-c.min()),\n",
        "                          std = ('price','std'),\n",
        "                          subscriber_cnt = ('num_subscribers','sum'))\\\n",
        ".sort_values('median_price', ascending=False)"
      ]
    },
    {
      "cell_type": "markdown",
      "metadata": {
        "id": "SNk2JwZrGcLY"
      },
      "source": [
        "##### Visualizing Price by level"
      ]
    },
    {
      "cell_type": "code",
      "execution_count": null,
      "metadata": {
        "id": "VBRzGyF3GcLZ"
      },
      "outputs": [],
      "source": [
        "levels_order = paid_courses.groupby('level')['price'].median().sort_values(ascending=False).index\n",
        "\n",
        "plt.figure(figsize=(15,8))\n",
        "sns.boxplot(data=paid_courses, x='price', y='level', \n",
        "            showmeans=True, meanline=True, meanprops={'color':'white'},order=levels_order)\\\n",
        ".set(title = 'Price by Level');"
      ]
    },
    {
      "cell_type": "markdown",
      "metadata": {
        "id": "S8qvIlkgGcLZ"
      },
      "source": [
        "##### Visaulizing Popularity by Level"
      ]
    },
    {
      "cell_type": "code",
      "execution_count": null,
      "metadata": {
        "id": "5-zkhYGHGcLZ"
      },
      "outputs": [],
      "source": [
        "subject_order = paid_courses.groupby('level')['num_subscribers'].sum().sort_values(ascending=False).index\n",
        "\n",
        "plt.figure(figsize=(15,8))\n",
        "sns.barplot(data=paid_courses, \n",
        "            y='num_subscribers', \n",
        "            x='level',\n",
        "            estimator=sum,\n",
        "            order = subject_order)\\\n",
        ".ticklabel_format(style='plain', axis='y');"
      ]
    },
    {
      "cell_type": "markdown",
      "metadata": {
        "id": "DsktpsVfGcLa"
      },
      "source": [
        "##### Price & Popularity by Level - Observations"
      ]
    },
    {
      "cell_type": "markdown",
      "metadata": {
        "id": "iPFvNoJ-GcLa"
      },
      "source": [
        "<div style='background:coral;font-size:15px'> \n",
        "\n",
        "<b> Observations </b>\n",
        "    \n",
        "<u> Price </u>\n",
        "* The Expert-Level courses are the most expensive, and contain the highest median and mean prices. \n",
        "* The Beginner-Level courses are the cheapest, and contain the lowest median and mean prices\n",
        "\n",
        "  \n",
        "<u> Popularity </u>\n",
        "* The Expert-Level courses contain the lowest amount of subscribers.\n",
        "* The All-Level courses contain the largest amount of subscribers\n",
        "\n",
        "</div>"
      ]
    },
    {
      "cell_type": "markdown",
      "metadata": {
        "id": "MDuNrnUvGcLa"
      },
      "source": [
        "##### Price & Popularity by Subject - Numeric Details"
      ]
    },
    {
      "cell_type": "code",
      "execution_count": null,
      "metadata": {
        "id": "mhfjnpOyGcLa"
      },
      "outputs": [],
      "source": [
        "paid_courses.groupby('subject').agg(min_price = ('price','min'),\n",
        "                          q25 = ('price',lambda c:c.quantile(.25)),\n",
        "                          mean_price = ('price','mean'),\n",
        "                          median_price = ('price','median'),\n",
        "                          q75 = ('price',lambda c:c.quantile(.75)),\n",
        "                          max_price = ('price','max'),\n",
        "                          iqr = ('price', lambda c:c.quantile(.75)-c.quantile(.25)),\n",
        "                          price_range = ('price', lambda c:c.max()-c.min()),\n",
        "                          std = ('price','std'),\n",
        "                          subscriber_cnt = ('num_subscribers','sum'))\\\n",
        ".sort_values('median_price', ascending=False)"
      ]
    },
    {
      "cell_type": "markdown",
      "metadata": {
        "id": "KjNtiIqRGcLa"
      },
      "source": [
        "##### Visualizing Price by Subject"
      ]
    },
    {
      "cell_type": "code",
      "execution_count": null,
      "metadata": {
        "id": "i9QvhL60GcLb"
      },
      "outputs": [],
      "source": [
        "subject_order = paid_courses.groupby('subject')['price'].median().sort_values(ascending=False).index\n",
        "\n",
        "plt.figure(figsize=(15,8))\n",
        "sns.boxplot(data=paid_courses, \n",
        "            x='price', \n",
        "            y='subject', \n",
        "            showmeans=True, \n",
        "            meanline=True, \n",
        "            meanprops={'color':'white'},\n",
        "            order = subject_order);"
      ]
    },
    {
      "cell_type": "markdown",
      "metadata": {
        "id": "sU_Cy4aYGcLb"
      },
      "source": [
        "##### Visualizing Subscribers by subject "
      ]
    },
    {
      "cell_type": "code",
      "execution_count": null,
      "metadata": {
        "id": "B8Wx9ACnGcLb"
      },
      "outputs": [],
      "source": [
        "subject_order = paid_courses.groupby('subject')['num_subscribers'].sum().sort_values(ascending=False).index\n",
        "\n",
        "plt.figure(figsize=(15,8))\n",
        "sns.barplot(data=paid_courses, \n",
        "            y='num_subscribers', \n",
        "            x='subject',\n",
        "            estimator=sum,\n",
        "            order = subject_order)\\\n",
        ".ticklabel_format(style='plain', axis='y');"
      ]
    },
    {
      "cell_type": "markdown",
      "metadata": {
        "id": "qVcGLksKGcLb"
      },
      "source": [
        "##### Subscribers & Price by Subject - Observations"
      ]
    },
    {
      "cell_type": "markdown",
      "metadata": {
        "id": "u1Tsbu3HGcLb"
      },
      "source": [
        "<div style='background:coral;font-size:15px'> \n",
        "\n",
        "<b> Observations </b>\n",
        "    \n",
        "<u> Price </u>\n",
        "* The Web-Development courses are the most expensive. \n",
        "* The Musical Instruments courses have the lowest average price\n",
        "\n",
        "\n",
        "<u> Popularity </u>\n",
        "* The Web Development courses are, by far, the most popular on Udemy\n",
        "* The Musical Instruments courses are the least popluar\n",
        "</div>"
      ]
    },
    {
      "cell_type": "markdown",
      "metadata": {
        "id": "iR80h00lGcLc"
      },
      "source": [
        "###### Subscribers & Price by Subject & level"
      ]
    },
    {
      "cell_type": "code",
      "execution_count": null,
      "metadata": {
        "id": "dvdpoNCvGcLc"
      },
      "outputs": [],
      "source": [
        "paid_courses.groupby(['subject','level']).agg(min_price = ('price','min'),\n",
        "                          q25 = ('price',lambda c:c.quantile(.25)),\n",
        "                          mean_price = ('price','mean'),\n",
        "                          median_price = ('price','median'),\n",
        "                          q75 = ('price',lambda c:c.quantile(.75)),\n",
        "                          max_price = ('price','max'),\n",
        "                          iqr = ('price', lambda c:c.quantile(.75)-c.quantile(.25)),\n",
        "                          price_range = ('price', lambda c:c.max()-c.min()),\n",
        "                          subscriber_cnt = ('num_subscribers','sum'))\\\n",
        ".sort_values('min_price',ascending=False)"
      ]
    },
    {
      "cell_type": "code",
      "execution_count": null,
      "metadata": {
        "scrolled": false,
        "id": "3yh68ttyGcLc"
      },
      "outputs": [],
      "source": [
        "plt.figure(figsize=(15,8))\n",
        "sns.boxplot(data=paid_courses, y='price', \n",
        "            x='subject', hue='level', \n",
        "            showmeans=True, meanline=True, meanprops={'color':'white'}, orient='v')\\\n",
        ".set(title = 'Price by level & subject');"
      ]
    },
    {
      "cell_type": "code",
      "execution_count": null,
      "metadata": {
        "id": "UzWOmMZaGcLc"
      },
      "outputs": [],
      "source": [
        "print('Subcribers by subject & level')\n",
        "plt.figure(figsize=(15,8))\n",
        "ax = sns.barplot(data=paid_courses, \n",
        "            y='num_subscribers', \n",
        "            x='subject',\n",
        "            hue='level',\n",
        "            estimator=sum,\n",
        "            order = subject_order)\\\n",
        ".ticklabel_format(style='plain', axis='y');"
      ]
    },
    {
      "cell_type": "markdown",
      "metadata": {
        "id": "YHvdeCxIGcLc"
      },
      "source": [
        "###### Subscribers & Price by Subject & level - Observations"
      ]
    },
    {
      "cell_type": "markdown",
      "metadata": {
        "id": "hqnqam-NGcLc"
      },
      "source": [
        "<div style='background:coral;font-size:15px'> \n",
        "\n",
        "<b> Observations </b>\n",
        "    \n",
        "<u> Price </u>\n",
        "* We already saw that the Web-Devlopment courses have the highest price tag. Now we can also see that it these prices are kept at all levels\n",
        "* It is interesting to see that the prices of Expert / Bussiness Finance courses are greater than the prices of some other Web-Development courses \n",
        "* While you can find any course from any level at the price of 20  Expert Web-Devlopment courses are the only ones starting at 50\n",
        "    \n",
        "<u> Popularity </u>\n",
        "* We already saw that the Web-Development and All-Level courses are the most popular, so its not a supprise that the combination of both yields the highest subject/level popularity\n",
        "</div>"
      ]
    },
    {
      "cell_type": "markdown",
      "metadata": {
        "id": "KrVZqsIQGcLd"
      },
      "source": [
        "#### categorical to categorical"
      ]
    },
    {
      "cell_type": "markdown",
      "metadata": {
        "id": "yIFhrxB1GcLd"
      },
      "source": [
        "Considering the amount of courses by each level and subject. Is there a difference between observed data and expected data ? and if so, is it due to chance, or if it is due to a relationship between those variables"
      ]
    },
    {
      "cell_type": "code",
      "execution_count": null,
      "metadata": {
        "id": "MPX9RQJGGcLd"
      },
      "outputs": [],
      "source": [
        "sns.heatmap(pd.crosstab(df['subject'], df['level']), annot=True, fmt='g');"
      ]
    },
    {
      "cell_type": "markdown",
      "metadata": {
        "id": "Gz9wPAwFGcLd"
      },
      "source": [
        "### Time Series Analysis"
      ]
    },
    {
      "cell_type": "markdown",
      "metadata": {
        "id": "qvUGJCNFGcLe"
      },
      "source": [
        "We cannot make any assumptions on 2017, because our data does not fully cover this year. "
      ]
    },
    {
      "cell_type": "code",
      "execution_count": null,
      "metadata": {
        "scrolled": true,
        "id": "HgwBCUjKGcLe",
        "outputId": "416f4fef-03cd-4159-b4f5-6becf92373d4"
      },
      "outputs": [
        {
          "data": {
            "text/plain": [
              "Timestamp('2017-07-06 21:46:30+0000', tz='UTC')"
            ]
          },
          "execution_count": 281,
          "metadata": {},
          "output_type": "execute_result"
        }
      ],
      "source": [
        "df['published_timestamp'].max()"
      ]
    },
    {
      "cell_type": "markdown",
      "metadata": {
        "id": "XOvzaPZcGcLf"
      },
      "source": [
        "#### Number of courses published every year"
      ]
    },
    {
      "cell_type": "code",
      "execution_count": null,
      "metadata": {
        "id": "q-6ffnPiGcLf"
      },
      "outputs": [],
      "source": [
        "df.assign(year_published = df['published_timestamp'].dt.year)\\\n",
        ".groupby(['year_published'])\\\n",
        ".agg(num_courses = ('course_title','size'))"
      ]
    },
    {
      "cell_type": "code",
      "execution_count": null,
      "metadata": {
        "id": "Qx3yiTARGcLf"
      },
      "outputs": [],
      "source": [
        "df.assign(year_published = df['published_timestamp'].dt.year)\\\n",
        ".groupby(['year_published'])\\\n",
        ".agg(num_courses = ('course_title','size'))\\\n",
        ".plot();"
      ]
    },
    {
      "cell_type": "markdown",
      "metadata": {
        "id": "LpGEJk2aGcLf"
      },
      "source": [
        "<div style='background:coral;font-size:15px'> \n",
        "\n",
        "We can see that the number of published courses increased significantly by each year.\n",
        "    \n",
        "</div>"
      ]
    },
    {
      "cell_type": "markdown",
      "metadata": {
        "id": "ipD9nrYPGcLg"
      },
      "source": [
        "#### Number of published courses by each subject"
      ]
    },
    {
      "cell_type": "code",
      "execution_count": null,
      "metadata": {
        "id": "u1w5xW5rGcLg"
      },
      "outputs": [],
      "source": [
        "df.assign(year_published = df['published_timestamp'].dt.year)\\\n",
        ".groupby(['year_published','subject'])\\\n",
        ".agg(num_courses = ('course_title','size'))"
      ]
    },
    {
      "cell_type": "code",
      "execution_count": null,
      "metadata": {
        "scrolled": false,
        "id": "uWs89y4LGcLg"
      },
      "outputs": [],
      "source": [
        "gb = df.assign(year_published = df['published_timestamp'].dt.year)\\\n",
        ".groupby(['year_published','subject'])\\\n",
        ".agg(num_courses = ('course_title','size'))\n",
        "\n",
        "sns.lineplot(data=gb, x='year_published', y='num_courses', hue='subject');"
      ]
    },
    {
      "cell_type": "code",
      "execution_count": null,
      "metadata": {
        "id": "QdOvq5-KGcLg"
      },
      "outputs": [],
      "source": [
        "gb = df.assign(year_published = df['published_timestamp'].dt.year)\\\n",
        ".groupby(['year_published','subject'])\\\n",
        ".agg(avg_duration = ('num_subscribers','sum'))\n",
        "\n",
        "sns.lineplot(data=gb, x='year_published', y='avg_duration', hue='subject');"
      ]
    },
    {
      "cell_type": "markdown",
      "metadata": {
        "id": "l4mwzqgMGcLg"
      },
      "source": [
        "<div style='background:coral;font-size:15px'> \n",
        "\n",
        "According to the line plot, Udemy courses on Web Development and Business Finance have significantly increased since 2015.\n",
        "The number of Business Finance related courses remained nearly constant in 2016, while Web Development related courses increased significantly. \n",
        "    \n",
        "</div>"
      ]
    },
    {
      "cell_type": "markdown",
      "metadata": {
        "id": "7BbPusQxGcLg"
      },
      "source": [
        "#### Number of published paid / free courses"
      ]
    },
    {
      "cell_type": "code",
      "execution_count": null,
      "metadata": {
        "id": "ovGQ1nKxGcLh"
      },
      "outputs": [],
      "source": [
        "df.assign(year_published = df['published_timestamp'].dt.year)\\\n",
        ".groupby(['year_published','is_paid'])\\\n",
        ".agg(num_courses = ('course_title','size'))"
      ]
    },
    {
      "cell_type": "code",
      "execution_count": null,
      "metadata": {
        "id": "BCYFaZEMGcLh"
      },
      "outputs": [],
      "source": [
        "gb = df.assign(year_published = df['published_timestamp'].dt.year)\\\n",
        ".groupby(['year_published','is_paid'])\\\n",
        ".agg(num_courses = ('course_title','size'))\n",
        "\n",
        "sns.lineplot(data=gb, x='year_published', y='num_courses', hue='is_paid');"
      ]
    },
    {
      "cell_type": "markdown",
      "metadata": {
        "id": "00l9YN2SGcLh"
      },
      "source": [
        "<div style='background:coral;font-size:15px'> \n",
        "\n",
        "Each year, the number of free and paid courses grows.\n",
        "Though there hasn't been much of an increase in the number of free courses.\n",
        "    \n",
        "</div>"
      ]
    },
    {
      "cell_type": "markdown",
      "metadata": {
        "id": "kdiXinalGcLh"
      },
      "source": [
        "### Deep Dive into Web-Development Courses"
      ]
    },
    {
      "cell_type": "code",
      "execution_count": null,
      "metadata": {
        "id": "J_M8hlhJGcLh"
      },
      "outputs": [],
      "source": [
        "df['Technology'] = None\n",
        "\n",
        "list_of_topics = set(['django', 'wordpress', 'solidity', 'typescript', 'vue js', \n",
        "                  'responsive design', 'ethereum', 'python', 'asp.net core', \n",
        "                  'microservices', 'javascript', 'react', 'css', 'angular', 'node.js', \n",
        "                  'html5', 'php', 'jquery', 'html5', 'html5/css3', 'node.js', 'spring','aws',\n",
        "                  'react.js','ruby','html','xml','vue','joomla','s3','asp.net','css3',\n",
        "                  'drupal','ajax','json','reactjs','angularjs','angular','bootstrap','amazon','excel'])\n",
        "\n",
        "titles = df['course_title'][df['subject']=='Web Development']\n",
        "\n",
        "for title in titles:\n",
        "    title_to_check = set(title.lower().replace(':','').replace(',',' ').replace('/',' ').replace('!','')\n",
        "                         .replace('html5','html').replace('css3','css').split(' '))\n",
        "    inter = list_of_topics.intersection(title_to_check)\n",
        "    if len(inter) > 0:\n",
        "        title_filter = df['course_title'] == title\n",
        "        df.loc[title_filter,'Technology'] = ' | '.join(inter)"
      ]
    },
    {
      "cell_type": "code",
      "execution_count": null,
      "metadata": {
        "id": "Poe-y33FGcLh"
      },
      "outputs": [],
      "source": [
        "df['Technology'] = df['Technology'].str.replace('html5','html').str.replace('css3','css')"
      ]
    },
    {
      "cell_type": "code",
      "execution_count": null,
      "metadata": {
        "scrolled": true,
        "id": "536JHnFgGcLh",
        "outputId": "ea72ffb0-8f7c-49f7-f266-454b588b0225"
      },
      "outputs": [
        {
          "data": {
            "text/html": [
              "<div>\n",
              "<style scoped>\n",
              "    .dataframe tbody tr th:only-of-type {\n",
              "        vertical-align: middle;\n",
              "    }\n",
              "\n",
              "    .dataframe tbody tr th {\n",
              "        vertical-align: top;\n",
              "    }\n",
              "\n",
              "    .dataframe thead th {\n",
              "        text-align: right;\n",
              "    }\n",
              "</style>\n",
              "<table border=\"1\" class=\"dataframe\">\n",
              "  <thead>\n",
              "    <tr style=\"text-align: right;\">\n",
              "      <th></th>\n",
              "      <th>course_title</th>\n",
              "      <th>Technology</th>\n",
              "      <th>price</th>\n",
              "      <th>num_subscribers</th>\n",
              "    </tr>\n",
              "  </thead>\n",
              "  <tbody>\n",
              "    <tr>\n",
              "      <th>2478</th>\n",
              "      <td>Learn Web Designing &amp; HTML5/CSS3 Essentials in...</td>\n",
              "      <td>html | css</td>\n",
              "      <td>75</td>\n",
              "      <td>43285</td>\n",
              "    </tr>\n",
              "    <tr>\n",
              "      <th>2479</th>\n",
              "      <td>Learning Dynamic Website Design - PHP MySQL an...</td>\n",
              "      <td>javascript | php</td>\n",
              "      <td>50</td>\n",
              "      <td>47886</td>\n",
              "    </tr>\n",
              "    <tr>\n",
              "      <th>2480</th>\n",
              "      <td>ChatBots: Messenger ChatBot with API.AI and No...</td>\n",
              "      <td>node.js</td>\n",
              "      <td>50</td>\n",
              "      <td>2577</td>\n",
              "    </tr>\n",
              "    <tr>\n",
              "      <th>2481</th>\n",
              "      <td>Projects in HTML5</td>\n",
              "      <td>html</td>\n",
              "      <td>60</td>\n",
              "      <td>8777</td>\n",
              "    </tr>\n",
              "    <tr>\n",
              "      <th>2482</th>\n",
              "      <td>Programming Foundations: HTML5 + CSS3 for Entr...</td>\n",
              "      <td>html | css</td>\n",
              "      <td>20</td>\n",
              "      <td>23764</td>\n",
              "    </tr>\n",
              "  </tbody>\n",
              "</table>\n",
              "</div>"
            ],
            "text/plain": [
              "                                           course_title        Technology  \\\n",
              "2478  Learn Web Designing & HTML5/CSS3 Essentials in...        html | css   \n",
              "2479  Learning Dynamic Website Design - PHP MySQL an...  javascript | php   \n",
              "2480  ChatBots: Messenger ChatBot with API.AI and No...           node.js   \n",
              "2481                                  Projects in HTML5              html   \n",
              "2482  Programming Foundations: HTML5 + CSS3 for Entr...        html | css   \n",
              "\n",
              "      price  num_subscribers  \n",
              "2478     75            43285  \n",
              "2479     50            47886  \n",
              "2480     50             2577  \n",
              "2481     60             8777  \n",
              "2482     20            23764  "
            ]
          },
          "execution_count": 34,
          "metadata": {},
          "output_type": "execute_result"
        }
      ],
      "source": [
        "df[['course_title','Technology','price','num_subscribers']][df['subject']=='Web Development'].head(5)"
      ]
    },
    {
      "cell_type": "code",
      "execution_count": null,
      "metadata": {
        "id": "q_k3o_XjGcLi",
        "outputId": "1f1efaea-e25c-4b48-d0f5-11e4306f3a4c"
      },
      "outputs": [
        {
          "data": {
            "text/plain": [
              "(3672, 11)"
            ]
          },
          "execution_count": 35,
          "metadata": {},
          "output_type": "execute_result"
        }
      ],
      "source": [
        "df.shape"
      ]
    },
    {
      "cell_type": "markdown",
      "metadata": {
        "id": "VyBdo342GcLi"
      },
      "source": [
        "#### Subscriber count by multiple subjects"
      ]
    },
    {
      "cell_type": "code",
      "execution_count": null,
      "metadata": {
        "id": "D0QQJEyJGcLi",
        "outputId": "1f5d82fb-3483-429b-e1b6-8e61f522b5ad"
      },
      "outputs": [
        {
          "data": {
            "image/png": "[encoded data removed]",
            "text/plain": [
              "<Figure size 1080x576 with 1 Axes>"
            ]
          },
          "metadata": {
            "needs_background": "light"
          },
          "output_type": "display_data"
        }
      ],
      "source": [
        "paid_filter = df['is_paid']==True\n",
        "web_dev     = df['subject']=='Web Development'\n",
        "\n",
        "df[paid_filter & web_dev].groupby(df['Technology'])\\\n",
        ".agg(num_subscribers = ('num_subscribers','sum'))\\\n",
        ".sort_values('num_subscribers',ascending=False)\\\n",
        ".head(20)\\\n",
        ".plot(kind='bar', figsize=(15,8));"
      ]
    },
    {
      "cell_type": "markdown",
      "metadata": {
        "id": "C_AorOHXGcLi"
      },
      "source": [
        "#### Subscriber count by a single subject"
      ]
    },
    {
      "cell_type": "code",
      "execution_count": null,
      "metadata": {
        "id": "erIPnfDdGcLi"
      },
      "outputs": [],
      "source": [
        "paid_filter = df['is_paid']==True\n",
        "web_dev     = df['subject']=='Web Development'\n",
        "\n",
        "df['Technology_LST'] = df['Technology'].str.split(' \\| ')"
      ]
    },
    {
      "cell_type": "code",
      "execution_count": null,
      "metadata": {
        "scrolled": true,
        "id": "BaVAyHv8GcLj",
        "outputId": "f97059bf-0213-40ed-f8bc-77fb4abdf1e8"
      },
      "outputs": [
        {
          "data": {
            "image/png": "[encoded data removed]",
            "text/plain": [
              "<Figure size 432x288 with 1 Axes>"
            ]
          },
          "metadata": {
            "needs_background": "light"
          },
          "output_type": "display_data"
        }
      ],
      "source": [
        "df[paid_filter & web_dev][['course_title', 'num_subscribers', 'Technology_LST']].explode('Technology_LST')\\\n",
        ".groupby('Technology_LST')\\\n",
        ".agg(num_subscribers = ('num_subscribers', 'sum'))\\\n",
        ".sort_values('num_subscribers', ascending=False)\\\n",
        ".head(10)\\\n",
        ".plot(kind='bar')\\\n",
        ".ticklabel_format(style='plain', axis='y');"
      ]
    },
    {
      "cell_type": "markdown",
      "metadata": {
        "id": "oFtMLGNJGcLj"
      },
      "source": [
        "#### Performance over Time"
      ]
    },
    {
      "cell_type": "code",
      "execution_count": null,
      "metadata": {
        "id": "uG3ScFOsGcLj",
        "outputId": "be91cbff-774b-4af6-8939-358705c0b3ed"
      },
      "outputs": [
        {
          "data": {
            "image/png": "[encoded data removed]",
            "text/plain": [
              "<Figure size 432x288 with 1 Axes>"
            ]
          },
          "metadata": {
            "needs_background": "light"
          },
          "output_type": "display_data"
        }
      ],
      "source": [
        "dt = df[paid_filter & web_dev][['course_title', 'num_subscribers', 'Technology_LST']]\\\n",
        ".assign(year_published = df['published_timestamp'].dt.year)\\\n",
        ".explode('Technology_LST')\\\n",
        "\n",
        "spec = dt['Technology_LST'].str.contains('python|html|angular|php|javascript', na=False)\n",
        "\n",
        "gb = dt[spec]\\\n",
        ".groupby(['year_published','Technology_LST'])\\\n",
        ".agg(num_courses = ('course_title', 'size'))\\\n",
        "\n",
        "sns.lineplot(data=gb, x='year_published', y='num_courses',hue='Technology_LST');"
      ]
    },
    {
      "cell_type": "markdown",
      "metadata": {
        "id": "V8BhuzU6GcLj"
      },
      "source": [
        "### Python Tips & Tricks"
      ]
    },
    {
      "cell_type": "code",
      "execution_count": null,
      "metadata": {
        "scrolled": true,
        "id": "O7i1NxiWGcLj"
      },
      "outputs": [],
      "source": [
        "# import sweetviz as sv\n",
        "# analyze_report = sv.analyze(df)\n",
        "# analyze_report.show_html('analyze.html', open_browser=True)"
      ]
    },
    {
      "cell_type": "code",
      "execution_count": null,
      "metadata": {
        "id": "1zARRqC9GcLk"
      },
      "outputs": [],
      "source": [
        "# from pandasgui import show\n",
        "# show(df)"
      ]
    }
  ],
  "metadata": {
    "hide_input": false,
    "kernelspec": {
      "display_name": "Python 3 (ipykernel)",
      "language": "python",
      "name": "python3"
    },
    "language_info": {
      "codemirror_mode": {
        "name": "ipython",
        "version": 3
      },
      "file_extension": ".py",
      "mimetype": "text/x-python",
      "name": "python",
      "nbconvert_exporter": "python",
      "pygments_lexer": "ipython3",
      "version": "3.10.0"
    },
    "toc": {
      "base_numbering": 1,
      "nav_menu": {},
      "number_sections": true,
      "sideBar": true,
      "skip_h1_title": false,
      "title_cell": "Table of Contents",
      "title_sidebar": "Contents",
      "toc_cell": false,
      "toc_position": {
        "height": "calc(100% - 180px)",
        "left": "10px",
        "top": "150px",
        "width": "289.3px"
      },
      "toc_section_display": true,
      "toc_window_display": true
    },
    "colab": {
      "name": "Udemy EDA.ipynb",
      "provenance": [],
      "toc_visible": true,
      "include_colab_link": true
    }
  },
  "nbformat": 4,
  "nbformat_minor": 0
}